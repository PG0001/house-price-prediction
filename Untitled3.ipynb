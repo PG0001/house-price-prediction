{
  "nbformat": 4,
  "nbformat_minor": 0,
  "metadata": {
    "colab": {
      "provenance": []
    },
    "kernelspec": {
      "name": "python3",
      "display_name": "Python 3"
    },
    "language_info": {
      "name": "python"
    }
  },
  "cells": [
    {
      "cell_type": "code",
      "execution_count": 18,
      "metadata": {
        "id": "33L8f2Urqapi"
      },
      "outputs": [],
      "source": [
        "\n",
        "import numpy as np\n",
        "import pandas as pd\n",
        "import matplotlib.pyplot as plt"
      ]
    },
    {
      "cell_type": "code",
      "source": [
        "\n",
        "data = pd.read_csv('Housing Price data set.csv')\n",
        "data=data.drop(['Unnamed: 0','driveway','recroom','fullbase','airco','prefarea', 'gashw'],axis=1)\n",
        "mean = data.mean()[0]\n",
        "stddev = data.std()[0]\n",
        "data = (data - data.mean())/data.std()\n",
        "\n",
        "data.head()"
      ],
      "metadata": {
        "colab": {
          "base_uri": "https://localhost:8080/",
          "height": 206
        },
        "id": "_ZKg5nlsrgXf",
        "outputId": "1a73cc5d-0d84-479c-cac0-84504011e8b2"
      },
      "execution_count": 19,
      "outputs": [
        {
          "output_type": "execute_result",
          "data": {
            "text/plain": [
              "   Unnamed: 1     price   lotsize  bedrooms   bathrms   stories  garagepl\n",
              "0   -1.719772 -0.694356  1.112654  0.135848 -0.494871  0.580817  0.589217\n",
              "1   -1.703393 -0.848007 -0.140974 -1.167060 -0.494871 -1.010773 -0.679404\n",
              "2   -1.687014 -0.365102 -0.777953  0.135848 -0.494871 -1.010773 -0.679404\n",
              "3   -1.670635  0.117804  1.654763  0.135848 -0.494871  0.580817 -0.679404\n",
              "4   -1.654256  0.139755  1.458249 -1.167060 -0.494871 -1.010773 -0.679404"
            ],
            "text/html": [
              "\n",
              "  <div id=\"df-e98f5f28-44b1-4743-9180-9dbf250c12c2\" class=\"colab-df-container\">\n",
              "    <div>\n",
              "<style scoped>\n",
              "    .dataframe tbody tr th:only-of-type {\n",
              "        vertical-align: middle;\n",
              "    }\n",
              "\n",
              "    .dataframe tbody tr th {\n",
              "        vertical-align: top;\n",
              "    }\n",
              "\n",
              "    .dataframe thead th {\n",
              "        text-align: right;\n",
              "    }\n",
              "</style>\n",
              "<table border=\"1\" class=\"dataframe\">\n",
              "  <thead>\n",
              "    <tr style=\"text-align: right;\">\n",
              "      <th></th>\n",
              "      <th>Unnamed: 1</th>\n",
              "      <th>price</th>\n",
              "      <th>lotsize</th>\n",
              "      <th>bedrooms</th>\n",
              "      <th>bathrms</th>\n",
              "      <th>stories</th>\n",
              "      <th>garagepl</th>\n",
              "    </tr>\n",
              "  </thead>\n",
              "  <tbody>\n",
              "    <tr>\n",
              "      <th>0</th>\n",
              "      <td>-1.719772</td>\n",
              "      <td>-0.694356</td>\n",
              "      <td>1.112654</td>\n",
              "      <td>0.135848</td>\n",
              "      <td>-0.494871</td>\n",
              "      <td>0.580817</td>\n",
              "      <td>0.589217</td>\n",
              "    </tr>\n",
              "    <tr>\n",
              "      <th>1</th>\n",
              "      <td>-1.703393</td>\n",
              "      <td>-0.848007</td>\n",
              "      <td>-0.140974</td>\n",
              "      <td>-1.167060</td>\n",
              "      <td>-0.494871</td>\n",
              "      <td>-1.010773</td>\n",
              "      <td>-0.679404</td>\n",
              "    </tr>\n",
              "    <tr>\n",
              "      <th>2</th>\n",
              "      <td>-1.687014</td>\n",
              "      <td>-0.365102</td>\n",
              "      <td>-0.777953</td>\n",
              "      <td>0.135848</td>\n",
              "      <td>-0.494871</td>\n",
              "      <td>-1.010773</td>\n",
              "      <td>-0.679404</td>\n",
              "    </tr>\n",
              "    <tr>\n",
              "      <th>3</th>\n",
              "      <td>-1.670635</td>\n",
              "      <td>0.117804</td>\n",
              "      <td>1.654763</td>\n",
              "      <td>0.135848</td>\n",
              "      <td>-0.494871</td>\n",
              "      <td>0.580817</td>\n",
              "      <td>-0.679404</td>\n",
              "    </tr>\n",
              "    <tr>\n",
              "      <th>4</th>\n",
              "      <td>-1.654256</td>\n",
              "      <td>0.139755</td>\n",
              "      <td>1.458249</td>\n",
              "      <td>-1.167060</td>\n",
              "      <td>-0.494871</td>\n",
              "      <td>-1.010773</td>\n",
              "      <td>-0.679404</td>\n",
              "    </tr>\n",
              "  </tbody>\n",
              "</table>\n",
              "</div>\n",
              "    <div class=\"colab-df-buttons\">\n",
              "\n",
              "  <div class=\"colab-df-container\">\n",
              "    <button class=\"colab-df-convert\" onclick=\"convertToInteractive('df-e98f5f28-44b1-4743-9180-9dbf250c12c2')\"\n",
              "            title=\"Convert this dataframe to an interactive table.\"\n",
              "            style=\"display:none;\">\n",
              "\n",
              "  <svg xmlns=\"http://www.w3.org/2000/svg\" height=\"24px\" viewBox=\"0 -960 960 960\">\n",
              "    <path d=\"M120-120v-720h720v720H120Zm60-500h600v-160H180v160Zm220 220h160v-160H400v160Zm0 220h160v-160H400v160ZM180-400h160v-160H180v160Zm440 0h160v-160H620v160ZM180-180h160v-160H180v160Zm440 0h160v-160H620v160Z\"/>\n",
              "  </svg>\n",
              "    </button>\n",
              "\n",
              "  <style>\n",
              "    .colab-df-container {\n",
              "      display:flex;\n",
              "      gap: 12px;\n",
              "    }\n",
              "\n",
              "    .colab-df-convert {\n",
              "      background-color: #E8F0FE;\n",
              "      border: none;\n",
              "      border-radius: 50%;\n",
              "      cursor: pointer;\n",
              "      display: none;\n",
              "      fill: #1967D2;\n",
              "      height: 32px;\n",
              "      padding: 0 0 0 0;\n",
              "      width: 32px;\n",
              "    }\n",
              "\n",
              "    .colab-df-convert:hover {\n",
              "      background-color: #E2EBFA;\n",
              "      box-shadow: 0px 1px 2px rgba(60, 64, 67, 0.3), 0px 1px 3px 1px rgba(60, 64, 67, 0.15);\n",
              "      fill: #174EA6;\n",
              "    }\n",
              "\n",
              "    .colab-df-buttons div {\n",
              "      margin-bottom: 4px;\n",
              "    }\n",
              "\n",
              "    [theme=dark] .colab-df-convert {\n",
              "      background-color: #3B4455;\n",
              "      fill: #D2E3FC;\n",
              "    }\n",
              "\n",
              "    [theme=dark] .colab-df-convert:hover {\n",
              "      background-color: #434B5C;\n",
              "      box-shadow: 0px 1px 3px 1px rgba(0, 0, 0, 0.15);\n",
              "      filter: drop-shadow(0px 1px 2px rgba(0, 0, 0, 0.3));\n",
              "      fill: #FFFFFF;\n",
              "    }\n",
              "  </style>\n",
              "\n",
              "    <script>\n",
              "      const buttonEl =\n",
              "        document.querySelector('#df-e98f5f28-44b1-4743-9180-9dbf250c12c2 button.colab-df-convert');\n",
              "      buttonEl.style.display =\n",
              "        google.colab.kernel.accessAllowed ? 'block' : 'none';\n",
              "\n",
              "      async function convertToInteractive(key) {\n",
              "        const element = document.querySelector('#df-e98f5f28-44b1-4743-9180-9dbf250c12c2');\n",
              "        const dataTable =\n",
              "          await google.colab.kernel.invokeFunction('convertToInteractive',\n",
              "                                                    [key], {});\n",
              "        if (!dataTable) return;\n",
              "\n",
              "        const docLinkHtml = 'Like what you see? Visit the ' +\n",
              "          '<a target=\"_blank\" href=https://colab.research.google.com/notebooks/data_table.ipynb>data table notebook</a>'\n",
              "          + ' to learn more about interactive tables.';\n",
              "        element.innerHTML = '';\n",
              "        dataTable['output_type'] = 'display_data';\n",
              "        await google.colab.output.renderOutput(dataTable, element);\n",
              "        const docLink = document.createElement('div');\n",
              "        docLink.innerHTML = docLinkHtml;\n",
              "        element.appendChild(docLink);\n",
              "      }\n",
              "    </script>\n",
              "  </div>\n",
              "\n",
              "\n",
              "<div id=\"df-862d89b7-95f9-4d27-a349-14b7d5fbac69\">\n",
              "  <button class=\"colab-df-quickchart\" onclick=\"quickchart('df-862d89b7-95f9-4d27-a349-14b7d5fbac69')\"\n",
              "            title=\"Suggest charts\"\n",
              "            style=\"display:none;\">\n",
              "\n",
              "<svg xmlns=\"http://www.w3.org/2000/svg\" height=\"24px\"viewBox=\"0 0 24 24\"\n",
              "     width=\"24px\">\n",
              "    <g>\n",
              "        <path d=\"M19 3H5c-1.1 0-2 .9-2 2v14c0 1.1.9 2 2 2h14c1.1 0 2-.9 2-2V5c0-1.1-.9-2-2-2zM9 17H7v-7h2v7zm4 0h-2V7h2v10zm4 0h-2v-4h2v4z\"/>\n",
              "    </g>\n",
              "</svg>\n",
              "  </button>\n",
              "\n",
              "<style>\n",
              "  .colab-df-quickchart {\n",
              "      --bg-color: #E8F0FE;\n",
              "      --fill-color: #1967D2;\n",
              "      --hover-bg-color: #E2EBFA;\n",
              "      --hover-fill-color: #174EA6;\n",
              "      --disabled-fill-color: #AAA;\n",
              "      --disabled-bg-color: #DDD;\n",
              "  }\n",
              "\n",
              "  [theme=dark] .colab-df-quickchart {\n",
              "      --bg-color: #3B4455;\n",
              "      --fill-color: #D2E3FC;\n",
              "      --hover-bg-color: #434B5C;\n",
              "      --hover-fill-color: #FFFFFF;\n",
              "      --disabled-bg-color: #3B4455;\n",
              "      --disabled-fill-color: #666;\n",
              "  }\n",
              "\n",
              "  .colab-df-quickchart {\n",
              "    background-color: var(--bg-color);\n",
              "    border: none;\n",
              "    border-radius: 50%;\n",
              "    cursor: pointer;\n",
              "    display: none;\n",
              "    fill: var(--fill-color);\n",
              "    height: 32px;\n",
              "    padding: 0;\n",
              "    width: 32px;\n",
              "  }\n",
              "\n",
              "  .colab-df-quickchart:hover {\n",
              "    background-color: var(--hover-bg-color);\n",
              "    box-shadow: 0 1px 2px rgba(60, 64, 67, 0.3), 0 1px 3px 1px rgba(60, 64, 67, 0.15);\n",
              "    fill: var(--button-hover-fill-color);\n",
              "  }\n",
              "\n",
              "  .colab-df-quickchart-complete:disabled,\n",
              "  .colab-df-quickchart-complete:disabled:hover {\n",
              "    background-color: var(--disabled-bg-color);\n",
              "    fill: var(--disabled-fill-color);\n",
              "    box-shadow: none;\n",
              "  }\n",
              "\n",
              "  .colab-df-spinner {\n",
              "    border: 2px solid var(--fill-color);\n",
              "    border-color: transparent;\n",
              "    border-bottom-color: var(--fill-color);\n",
              "    animation:\n",
              "      spin 1s steps(1) infinite;\n",
              "  }\n",
              "\n",
              "  @keyframes spin {\n",
              "    0% {\n",
              "      border-color: transparent;\n",
              "      border-bottom-color: var(--fill-color);\n",
              "      border-left-color: var(--fill-color);\n",
              "    }\n",
              "    20% {\n",
              "      border-color: transparent;\n",
              "      border-left-color: var(--fill-color);\n",
              "      border-top-color: var(--fill-color);\n",
              "    }\n",
              "    30% {\n",
              "      border-color: transparent;\n",
              "      border-left-color: var(--fill-color);\n",
              "      border-top-color: var(--fill-color);\n",
              "      border-right-color: var(--fill-color);\n",
              "    }\n",
              "    40% {\n",
              "      border-color: transparent;\n",
              "      border-right-color: var(--fill-color);\n",
              "      border-top-color: var(--fill-color);\n",
              "    }\n",
              "    60% {\n",
              "      border-color: transparent;\n",
              "      border-right-color: var(--fill-color);\n",
              "    }\n",
              "    80% {\n",
              "      border-color: transparent;\n",
              "      border-right-color: var(--fill-color);\n",
              "      border-bottom-color: var(--fill-color);\n",
              "    }\n",
              "    90% {\n",
              "      border-color: transparent;\n",
              "      border-bottom-color: var(--fill-color);\n",
              "    }\n",
              "  }\n",
              "</style>\n",
              "\n",
              "  <script>\n",
              "    async function quickchart(key) {\n",
              "      const quickchartButtonEl =\n",
              "        document.querySelector('#' + key + ' button');\n",
              "      quickchartButtonEl.disabled = true;  // To prevent multiple clicks.\n",
              "      quickchartButtonEl.classList.add('colab-df-spinner');\n",
              "      try {\n",
              "        const charts = await google.colab.kernel.invokeFunction(\n",
              "            'suggestCharts', [key], {});\n",
              "      } catch (error) {\n",
              "        console.error('Error during call to suggestCharts:', error);\n",
              "      }\n",
              "      quickchartButtonEl.classList.remove('colab-df-spinner');\n",
              "      quickchartButtonEl.classList.add('colab-df-quickchart-complete');\n",
              "    }\n",
              "    (() => {\n",
              "      let quickchartButtonEl =\n",
              "        document.querySelector('#df-862d89b7-95f9-4d27-a349-14b7d5fbac69 button');\n",
              "      quickchartButtonEl.style.display =\n",
              "        google.colab.kernel.accessAllowed ? 'block' : 'none';\n",
              "    })();\n",
              "  </script>\n",
              "</div>\n",
              "    </div>\n",
              "  </div>\n"
            ]
          },
          "metadata": {},
          "execution_count": 19
        }
      ]
    },
    {
      "cell_type": "code",
      "source": [
        "\n",
        "\n",
        "data=np.asarray(data)\n",
        "Y=data[:,0:1]\n",
        "X=data[:,1:]\n",
        "one = np.ones((len(X),1))\n",
        "X = np.concatenate((one,X),axis=1)\n",
        "split_ratio = 0.9\n",
        "split = int(split_ratio * X.shape[0])\n",
        "X_test = X[split+1:,:]\n",
        "X_train = X[:split+1, :]\n",
        "Y_test = Y[split+1:,:]\n",
        "Y_train = Y[:split+1, :]"
      ],
      "metadata": {
        "id": "EM2e-Uq-rjRC"
      },
      "execution_count": 20,
      "outputs": []
    },
    {
      "cell_type": "code",
      "source": [
        "def computeCost(X,y,theta,lam):\n",
        "    tobesummed = np.power(((X.dot(theta.T))-y),2)+lam*np.sum(np.power(theta,2))\n",
        "    return np.sum(tobesummed)/(2 * len(X))\n",
        "\n",
        "def denormalise_price(price):\n",
        "    global mean\n",
        "    global stddev\n",
        "    ret = price * stddev + mean\n",
        "    return ret\n",
        "\n",
        "def computeError(predicted, actual):\n",
        "    error = 0\n",
        "    for i in range(len(predicted)):\n",
        "        error += abs(actual[i] - predicted[i]) / actual[i]\n",
        "    error /= len(actual)\n",
        "    return error[0]\n",
        "\n",
        "def plotGraph(x,y,labelX='X',labelY='Y',title='X vs Y'):\n",
        "  fig, ax = plt.subplots()\n",
        "  ax.plot(x, y, 'r')\n",
        "  ax.set_xlabel(labelX)\n",
        "  ax.set_ylabel(labelY)\n",
        "  ax.set_title(title)"
      ],
      "metadata": {
        "id": "zVlszT3Mrljv"
      },
      "execution_count": 21,
      "outputs": []
    },
    {
      "cell_type": "code",
      "source": [
        "def gradientDescent(X,y,theta,iters,alpha, lam):\n",
        "    lam_matrix = lam * np.ones(theta.shape)\n",
        "    lam_matrix[0][0] = 0\n",
        "    for i in range(iters):\n",
        "        theta = theta*(1- lam_matrix / len(X)) - (alpha/len(X)) * np.sum(X * (X @ theta.T - y), axis=0)\n",
        "\n",
        "    return theta"
      ],
      "metadata": {
        "id": "ABn47xEzrnth"
      },
      "execution_count": 22,
      "outputs": []
    },
    {
      "cell_type": "code",
      "source": [
        "def normalEquation(X,Y,lam):\n",
        "    lam_matrix = lam * np.identity(X.shape[1])\n",
        "    lam_matrix[0][0] = 0\n",
        "    theta = np.linalg.inv(X.T.dot(X) + lam_matrix).dot(X.T).dot(Y)\n",
        "    return theta"
      ],
      "metadata": {
        "id": "smY5C39prsMb"
      },
      "execution_count": 23,
      "outputs": []
    },
    {
      "cell_type": "code",
      "source": [
        "theta = np.zeros([1,X.shape[1]])\n",
        "alpha = .1 #learning rate\n",
        "iters = 500 #epoch\n",
        "error_matrix = []\n",
        "lam_range = 600 #maximam lamda\n",
        "for lam in range(lam_range):\n",
        "    g = gradientDescent(X_train,Y_train,theta,iters,alpha, lam)\n",
        "    Cost = computeCost(X_train,Y_train,g,lam)\n",
        "\n",
        "    Y_pred = X_test.dot(g.T)\n",
        "    error = computeError(denormalise_price(Y_pred),denormalise_price(Y_test))\n",
        "    error_matrix.append(error*100)\n",
        "optimal_lambda = 0\n",
        "min_error = 9999\n",
        "for i in range(len(error_matrix)):\n",
        "    if error_matrix[i] < min_error:\n",
        "        optimal_lambda = i\n",
        "        min_error = error_matrix[i]\n",
        "\n",
        "print(\"min Error  : \", (min_error),'%')\n",
        "print(\"Optimal Lambda : \", optimal_lambda)\n",
        "plotGraph(np.arange(lam_range),error_matrix,'lambda','error','lambda vs error')"
      ],
      "metadata": {
        "colab": {
          "base_uri": "https://localhost:8080/",
          "height": 631
        },
        "id": "_wDsgnCjrurb",
        "outputId": "d2d7fa89-28ea-4bf5-c49c-1a1ceb81ea35"
      },
      "execution_count": 24,
      "outputs": [
        {
          "output_type": "stream",
          "name": "stderr",
          "text": [
            "/usr/local/lib/python3.10/dist-packages/numpy/core/fromnumeric.py:86: RuntimeWarning: overflow encountered in reduce\n",
            "  return ufunc.reduce(obj, axis, dtype, out, **passkwargs)\n",
            "<ipython-input-21-38c1ce971e63>:2: RuntimeWarning: overflow encountered in double_scalars\n",
            "  tobesummed = np.power(((X.dot(theta.T))-y),2)+lam*np.sum(np.power(theta,2))\n",
            "<ipython-input-21-38c1ce971e63>:2: RuntimeWarning: overflow encountered in power\n",
            "  tobesummed = np.power(((X.dot(theta.T))-y),2)+lam*np.sum(np.power(theta,2))\n"
          ]
        },
        {
          "output_type": "stream",
          "name": "stdout",
          "text": [
            "min Error  :  48.52878151541326 %\n",
            "Optimal Lambda :  333\n"
          ]
        },
        {
          "output_type": "display_data",
          "data": {
            "text/plain": [
              "<Figure size 640x480 with 1 Axes>"
            ],
            "image/png": "[encoded data removed]"
          },
          "metadata": {}
        }
      ]
    },
    {
      "cell_type": "code",
      "source": [
        "\n",
        "print('pred price =',denormalise_price(Y_pred[2][0]),'actual price =',denormalise_price(Y_test[2][0]))"
      ],
      "metadata": {
        "colab": {
          "base_uri": "https://localhost:8080/"
        },
        "id": "H8NIb-ibrxYf",
        "outputId": "63a5f135-9342-48f6-b097-8108eebfc7d6"
      },
      "execution_count": 25,
      "outputs": [
        {
          "output_type": "stream",
          "name": "stdout",
          "text": [
            "pred price = 4.1059505499936017e+189 actual price = 193.0\n"
          ]
        }
      ]
    },
    {
      "cell_type": "code",
      "source": [
        "\n",
        "error_mat = []\n",
        "lam_range = 600\n",
        "\n",
        "for lam in range(lam_range):\n",
        "    theta = normalEquation(X,Y,lam)\n",
        "    Cost = computeCost(X_train,Y_train,theta.T,lam)\n",
        "    Y_pred = X_test.dot(theta)\n",
        "    error = computeError(denormalise_price(Y_pred),denormalise_price(Y_test))\n",
        "    error_mat.append(error*100)\n",
        "\n",
        "optimal_lambda = 0\n",
        "min_error = 9999\n",
        "for i in range(len(error_mat)):\n",
        "    if error_mat[i] < min_error:\n",
        "        optimal_lambda = i\n",
        "        min_error = error_mat[i]\n",
        "print(\"min Error : \", min_error)\n",
        "print(\"Optimal Lambda : \", optimal_lambda)\n",
        "plotGraph(np.arange(lam_range),error_mat,'lambda','error','lambda vs error')"
      ],
      "metadata": {
        "colab": {
          "base_uri": "https://localhost:8080/",
          "height": 507
        },
        "id": "FmI7iWTZr0hR",
        "outputId": "6a483a8e-4054-41f7-fa99-d2eac4495070"
      },
      "execution_count": 26,
      "outputs": [
        {
          "output_type": "stream",
          "name": "stdout",
          "text": [
            "min Error :  42.91096633922311\n",
            "Optimal Lambda :  0\n"
          ]
        },
        {
          "output_type": "display_data",
          "data": {
            "text/plain": [
              "<Figure size 640x480 with 1 Axes>"
            ],
            "image/png": "[encoded data removed]"
          },
          "metadata": {}
        }
      ]
    },
    {
      "cell_type": "code",
      "source": [
        "print('pred price =',denormalise_price(Y_pred[2][0]),'actual price =',denormalise_price(Y_test[2])[0])\n"
      ],
      "metadata": {
        "colab": {
          "base_uri": "https://localhost:8080/"
        },
        "id": "m8vjMI4jr2-9",
        "outputId": "74de6dde-366c-48d0-ab6f-6c91ba1aa4b2"
      },
      "execution_count": 27,
      "outputs": [
        {
          "output_type": "stream",
          "name": "stdout",
          "text": [
            "pred price = 107.15991386726195 actual price = 193.0\n"
          ]
        }
      ]
    }
  ]
}